{
 "cells": [
  {
   "cell_type": "markdown",
   "id": "3172d52c-61a1-4784-881a-f85c36cb9c0b",
   "metadata": {},
   "source": [
    "# My Jupyter Notebook on IBM Watson Studio"
   ]
  },
  {
   "cell_type": "markdown",
   "id": "bc14defb-0731-403c-af84-6393bc1e9070",
   "metadata": {},
   "source": [
    "**Matteo Banterla**  \n",
    "Data scientist"
   ]
  },
  {
   "cell_type": "markdown",
   "id": "028c5285-74e3-45bd-8ddd-cf5d837f59fa",
   "metadata": {},
   "source": [
    "_I am interested in data science because I like using data_"
   ]
  },
  {
   "cell_type": "markdown",
   "id": "85d9b983-0340-4a26-9f5e-e18a47a2e675",
   "metadata": {},
   "source": [
    "### In the next I'll show a basic math operation, addition between two numbers"
   ]
  },
  {
   "cell_type": "code",
   "execution_count": 5,
   "id": "0e42892d-4eed-4539-bb7c-127cbe58980a",
   "metadata": {},
   "outputs": [
    {
     "data": {
      "text/plain": [
       "4"
      ]
     },
     "execution_count": 5,
     "metadata": {},
     "output_type": "execute_result"
    }
   ],
   "source": [
    "2 + 2"
   ]
  },
  {
   "cell_type": "markdown",
   "id": "3887860c-5a1a-47f0-b949-01dd0a913499",
   "metadata": {},
   "source": [
    "Bulleted list \n",
    "* Bulleted item 1\n",
    "* Bulleted item 2\n",
    "* Bulleted item 3\n",
    "\n",
    "Numbered list \n",
    "1. numbered list item 1\n",
    "2. numbered list item 2\n",
    "3. numbered list item 3\n",
    "\n",
    "Table \n",
    "Col1 |Col2 |Col3\n",
    "-----|-----|----- \n",
    "Data1|Data2|Data3\n",
    "Data1|Data2|Data3\n",
    "Data1|Data2|Data3\n",
    "Data1|Data2|Data3"
   ]
  },
  {
   "cell_type": "code",
   "execution_count": null,
   "id": "28c37f46-873f-43ee-821f-e599db350722",
   "metadata": {},
   "outputs": [],
   "source": []
  }
 ],
 "metadata": {
  "kernelspec": {
   "display_name": "Python",
   "language": "python",
   "name": "conda-env-python-py"
  },
  "language_info": {
   "codemirror_mode": {
    "name": "ipython",
    "version": 3
   },
   "file_extension": ".py",
   "mimetype": "text/x-python",
   "name": "python",
   "nbconvert_exporter": "python",
   "pygments_lexer": "ipython3",
   "version": "3.7.12"
  }
 },
 "nbformat": 4,
 "nbformat_minor": 5
}
